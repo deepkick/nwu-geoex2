{
 "cells": [
  {
   "cell_type": "markdown",
   "metadata": {},
   "source": [
    "## matplotlibで日本語を使う\n",
    "\n",
    "Python 3はUTF-8に対応しているので，日本語を含めて様々な文字を扱うことができる。しかし，matplotlibが既定で使うフォントが日本語を含まないフォントなので，グラフに日本語を使うと文字化けが発生し，文字の代わりに「豆腐」と呼ばれる「□」が表示される。\n"
   ]
  },
  {
   "cell_type": "code",
   "execution_count": 1,
   "metadata": {},
   "outputs": [
    {
     "data": {
      "image/png": "[encoded data removed]",
      "text/plain": [
       "<matplotlib.figure.Figure at 0x27717c03860>"
      ]
     },
     "metadata": {},
     "output_type": "display_data"
    }
   ],
   "source": [
    "import matplotlib.pyplot as plt\n",
    "plt.figure()\n",
    "plt.xlabel('x軸')\n",
    "plt.ylabel('y軸')\n",
    "plt.title('タイトル')\n",
    "plt.show()"
   ]
  },
  {
   "cell_type": "markdown",
   "metadata": {},
   "source": [
    "matplotlibの既定の設定ファイルの場所を探す。"
   ]
  },
  {
   "cell_type": "code",
   "execution_count": 2,
   "metadata": {},
   "outputs": [
    {
     "name": "stdout",
     "output_type": "stream",
     "text": [
      "C:\\Users\\eno\\Miniconda3\\lib\\site-packages\\matplotlib\\mpl-data\\matplotlibrc\n"
     ]
    }
   ],
   "source": [
    "import matplotlib as mpl\n",
    "print(mpl.matplotlib_fname())"
   ]
  },
  {
   "cell_type": "markdown",
   "metadata": {},
   "source": [
    "### IPAexフォント\n",
    "\n",
    "ここでは，独立行政法人情報処理推進機構が無料で配布している[IPAexフォント](http://ipafont.ipa.go.jp)のうちIPAexゴシックを利用する。IPAexゴシックをダウンロードして解凍した後，設定ファイルのあるフォルダー`mpl-data`にある`fonts\\ttf`にコピーする。\n",
    "\n",
    "### 設定ファイル\n",
    "\n",
    "このファイルをホームフォルダーの下の`.matplotlib`（例えば`C:\\Users\\eno\\.matplotlib`）にコピーする。IPAexゴシックを使うことをコピーした設定ファイルに記述する。\n",
    "\n",
    "    font.family : IPAexGothic\n",
    "\n",
    "設定ファイルの場所を再度確認してみよう。"
   ]
  },
  {
   "cell_type": "code",
   "execution_count": 2,
   "metadata": {},
   "outputs": [
    {
     "data": {
      "text/plain": [
       "'C:\\\\Users\\\\eno\\\\.matplotlib\\\\matplotlibrc'"
      ]
     },
     "execution_count": 2,
     "metadata": {},
     "output_type": "execute_result"
    }
   ],
   "source": [
    "import matplotlib\n",
    "matplotlib.matplotlib_fname()"
   ]
  },
  {
   "cell_type": "markdown",
   "metadata": {},
   "source": [
    "カーネルを再起動してもう一度プロットする。"
   ]
  },
  {
   "cell_type": "code",
   "execution_count": 1,
   "metadata": {},
   "outputs": [
    {
     "data": {
      "image/png": "[encoded data removed]",
      "text/plain": [
       "<matplotlib.figure.Figure at 0x1d279a04748>"
      ]
     },
     "metadata": {},
     "output_type": "display_data"
    }
   ],
   "source": [
    "import matplotlib.pyplot as plt\n",
    "plt.figure()\n",
    "plt.xlabel('x軸')\n",
    "plt.ylabel('y軸')\n",
    "plt.title('タイトル')\n",
    "plt.show()"
   ]
  },
  {
   "cell_type": "markdown",
   "metadata": {
    "collapsed": true
   },
   "source": [
    "### 参考\n",
    "\n",
    "* [【matplotlib】日本語の設定](http://kaisk.hatenadiary.com/entry/2015/02/15/215831)\n",
    "* [matplotlib のグラフに日本語を表示する方法（文字化け対応）](http://akiyoko.hatenablog.jp/entry/2017/04/11/080446)\n",
    "* [IPAフォント](http://ipafont.ipa.go.jp)"
   ]
  },
  {
   "cell_type": "code",
   "execution_count": null,
   "metadata": {
    "collapsed": true
   },
   "outputs": [],
   "source": []
  }
 ],
 "metadata": {
  "kernelspec": {
   "display_name": "Python 3",
   "language": "python",
   "name": "python3"
  },
  "language_info": {
   "codemirror_mode": {
    "name": "ipython",
    "version": 3
   },
   "file_extension": ".py",
   "mimetype": "text/x-python",
   "name": "python",
   "nbconvert_exporter": "python",
   "pygments_lexer": "ipython3",
   "version": "3.6.1"
  }
 },
 "nbformat": 4,
 "nbformat_minor": 2
}
