{
 "cells": [
  {
   "cell_type": "markdown",
   "metadata": {},
   "source": [
    "## インストール\n",
    "\n",
    "この実習では，情報処理教育室のWindowsパソコンを使う。ここでは，実習に必要な環境を整える。実習に用いるPythonとその拡張モジュールは[Miniconda](https://conda.io/miniconda.html)を利用する。Windows用のインストーラを起動し，次の手順でインストールを進める。インストールには管理者権限は必要ない。各自のホームディレクトリの`Miniconda3`というフォルダにインストールされる。\n",
    "\n",
    "* Next\n",
    "* I agree\n",
    "* Just Me\n",
    "* Next\n",
    "* 両方チェック\n",
    " - Add Anaconda to my PATH environment variable\n",
    " - Register Anaconda as my default Python 3.6\n",
    "\n",
    "Minicondaは`conda`というコマンドをインストールする。このコマンドを使って拡張モジュールをインストールする。同じコマンドでモジュールのアンインストールやアップデートをすることもできる。インストールするときは，サブコマンド`install`を用いる。実際に，コマンドプロンプトかPowerShellを起動して次のコマンドを実行しよう。\n",
    "\n",
    "```\n",
    "> conda install scipy matplotlib jupyter\n",
    "```"
   ]
  },
  {
   "cell_type": "code",
   "execution_count": null,
   "metadata": {
    "collapsed": true
   },
   "outputs": [],
   "source": []
  }
 ],
 "metadata": {
  "kernelspec": {
   "display_name": "Python 3",
   "language": "python",
   "name": "python3"
  },
  "language_info": {
   "codemirror_mode": {
    "name": "ipython",
    "version": 3
   },
   "file_extension": ".py",
   "mimetype": "text/x-python",
   "name": "python",
   "nbconvert_exporter": "python",
   "pygments_lexer": "ipython3",
   "version": "3.6.1"
  }
 },
 "nbformat": 4,
 "nbformat_minor": 2
}
