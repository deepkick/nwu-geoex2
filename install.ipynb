{
 "cells": [
  {
   "cell_type": "markdown",
   "metadata": {},
   "source": [
    "## インストール\n",
    "\n",
    "[Miniconda](https://conda.io/miniconda.html)\n",
    "\n",
    "\n",
    "* Windows\n",
    "* Next\n",
    "* I agree\n",
    "* Just Me\n",
    "* Next\n",
    "* 両方チェック\n",
    " - Add Anaconda to my PATH environment variable\n",
    " - Register Anaconda as my default Python 3.6\n",
    "\n",
    "```\n",
    "> conda install scipy matplotlib jupyter\n",
    "```"
   ]
  }
 ],
 "metadata": {
  "kernelspec": {
   "display_name": "Python 3",
   "language": "python",
   "name": "python3"
  },
  "language_info": {
   "codemirror_mode": {
    "name": "ipython",
    "version": 3
   },
   "file_extension": ".py",
   "mimetype": "text/x-python",
   "name": "python",
   "nbconvert_exporter": "python",
   "pygments_lexer": "ipython3",
   "version": "3.6.2"
  }
 },
 "nbformat": 4,
 "nbformat_minor": 2
}
